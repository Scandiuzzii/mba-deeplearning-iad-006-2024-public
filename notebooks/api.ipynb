{
 "cells": [
  {
   "cell_type": "code",
   "execution_count": 7,
   "metadata": {},
   "outputs": [],
   "source": [
    "import requests\n",
    "import json"
   ]
  },
  {
   "cell_type": "code",
   "execution_count": 8,
   "metadata": {},
   "outputs": [],
   "source": [
    "url = 'http://localhost:8000/predict'"
   ]
  },
  {
   "cell_type": "code",
   "execution_count": 12,
   "metadata": {},
   "outputs": [],
   "source": [
    "def fazer_inferencia(dados_entrada, url):\n",
    "    try:\n",
    "        print(dados_entrada)\n",
    "        dados_json = json.dumps({'input': dados_entrada.tolist()})\n",
    "        resposta = requests.post(url, data=dados_json, headers={'Content-Type': 'application/json'})\n",
    "        \n",
    "        resposta.raise_for_status() \n",
    "        \n",
    "        return resposta.json()\n",
    "    \n",
    "    except requests.exceptions.RequestException as e:\n",
    "        return {'error': f'Solicitação falhou: {str(e)}'}"
   ]
  },
  {
   "cell_type": "code",
   "execution_count": 26,
   "metadata": {},
   "outputs": [
    {
     "name": "stdout",
     "output_type": "stream",
     "text": [
      "[INFO] Imagem aleatória do MNIST com label '2':\n"
     ]
    }
   ],
   "source": [
    "from sklearn.datasets import load_digits\n",
    "import numpy as np\n",
    "\n",
    "dataset = load_digits()\n",
    "(data, labels) = (dataset.data, dataset.target)\n",
    "\n",
    "randomIndex = np.random.randint(0, data.shape[0])\n",
    "print(\"[INFO] Imagem aleatória do MNIST com label '{:.0f}':\".format(labels[randomIndex]))\n"
   ]
  },
  {
   "cell_type": "code",
   "execution_count": 27,
   "metadata": {},
   "outputs": [
    {
     "name": "stdout",
     "output_type": "stream",
     "text": [
      "[ 0.  0.  9. 16. 16. 13.  1.  0.  0.  0. 12. 13. 14. 16.  7.  0.  0.  0.\n",
      "  0.  0.  6. 16.  4.  0.  0.  0.  0.  0. 13. 14.  1.  0.  0.  0.  1. 10.\n",
      " 16.  6.  0.  0.  0.  0.  7. 16.  8.  0.  0.  0.  0.  2. 15. 16. 12.  7.\n",
      "  0.  0.  0.  0.  9. 14. 16. 16.  2.  0.]\n"
     ]
    },
    {
     "data": {
      "text/plain": [
       "{'prediction': [2]}"
      ]
     },
     "execution_count": 27,
     "metadata": {},
     "output_type": "execute_result"
    }
   ],
   "source": [
    "fazer_inferencia(data[randomIndex], url=url)\n"
   ]
  },
  {
   "cell_type": "code",
   "execution_count": null,
   "metadata": {},
   "outputs": [],
   "source": []
  },
  {
   "cell_type": "code",
   "execution_count": null,
   "metadata": {},
   "outputs": [],
   "source": []
  },
  {
   "cell_type": "code",
   "execution_count": null,
   "metadata": {},
   "outputs": [],
   "source": []
  }
 ],
 "metadata": {
  "kernelspec": {
   "display_name": "venv",
   "language": "python",
   "name": "python3"
  },
  "language_info": {
   "codemirror_mode": {
    "name": "ipython",
    "version": 3
   },
   "file_extension": ".py",
   "mimetype": "text/x-python",
   "name": "python",
   "nbconvert_exporter": "python",
   "pygments_lexer": "ipython3",
   "version": "3.9.12"
  }
 },
 "nbformat": 4,
 "nbformat_minor": 2
}

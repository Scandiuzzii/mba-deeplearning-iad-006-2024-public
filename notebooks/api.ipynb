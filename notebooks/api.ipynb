{
 "cells": [
  {
   "cell_type": "code",
   "execution_count": 35,
   "metadata": {},
   "outputs": [],
   "source": [
    "import requests\n",
    "import json"
   ]
  },
  {
   "cell_type": "code",
   "execution_count": 36,
   "metadata": {},
   "outputs": [],
   "source": [
    "url = 'http://localhost:8000/predict'"
   ]
  },
  {
   "cell_type": "code",
   "execution_count": 37,
   "metadata": {},
   "outputs": [],
   "source": [
    "def fazer_inferencia(dados_entrada, url):\n",
    "    try:\n",
    "        print(dados_entrada)\n",
    "        dados_json = json.dumps({'input': dados_entrada.tolist()})\n",
    "        resposta = requests.post(url, data=dados_json, headers={'Content-Type': 'application/json'})\n",
    "        \n",
    "        resposta.raise_for_status() \n",
    "        \n",
    "        return resposta.json()\n",
    "    \n",
    "    except requests.exceptions.RequestException as e:\n",
    "        return {'error': f'Solicitação falhou: {str(e)}'}"
   ]
  },
  {
   "cell_type": "code",
   "execution_count": 40,
   "metadata": {},
   "outputs": [
    {
     "name": "stdout",
     "output_type": "stream",
     "text": [
      "[INFO] Imagem aleatória do MNIST com label '2':\n"
     ]
    }
   ],
   "source": [
    "from sklearn.datasets import load_digits\n",
    "import numpy as np\n",
    "\n",
    "dataset = load_digits()\n",
    "(data, labels) = (dataset.data, dataset.target)\n",
    "\n",
    "randomIndex = np.random.randint(0, data.shape[0])\n",
    "print(\"[INFO] Imagem aleatória do MNIST com label '{:.0f}':\".format(labels[randomIndex]))\n"
   ]
  },
  {
   "cell_type": "code",
   "execution_count": 42,
   "metadata": {},
   "outputs": [
    {
     "name": "stdout",
     "output_type": "stream",
     "text": [
      "[ 0.  2. 16. 10.  0.  0.  0.  0.  0.  7. 16. 16.  3.  0.  0.  0.  0.  3.\n",
      " 10. 12.  8.  0.  0.  0.  0.  0.  0.  7. 10.  0.  0.  0.  0.  0.  0. 10.\n",
      " 12.  0.  0.  0.  0.  0.  8. 15. 15. 12.  5.  0.  0.  2. 16. 16. 16. 16.\n",
      " 15.  2.  0.  2. 15. 14. 12. 12.  7.  0.]\n"
     ]
    },
    {
     "data": {
      "text/plain": [
       "{'prediction': [2]}"
      ]
     },
     "execution_count": 42,
     "metadata": {},
     "output_type": "execute_result"
    }
   ],
   "source": [
    "fazer_inferencia(data[randomIndex], url=url)\n"
   ]
  }
 ],
 "metadata": {
  "kernelspec": {
   "display_name": "venv",
   "language": "python",
   "name": "python3"
  },
  "language_info": {
   "codemirror_mode": {
    "name": "ipython",
    "version": 3
   },
   "file_extension": ".py",
   "mimetype": "text/x-python",
   "name": "python",
   "nbconvert_exporter": "python",
   "pygments_lexer": "ipython3",
   "version": "3.9.12"
  }
 },
 "nbformat": 4,
 "nbformat_minor": 2
}
